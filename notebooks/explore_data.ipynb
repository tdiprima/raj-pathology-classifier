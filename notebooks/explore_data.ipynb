{
 "cells": [
  {
   "cell_type": "markdown",
   "id": "926c65e6",
   "metadata": {},
   "source": [
    "# 🧪 Explore Pathology Dataset\n",
    "\n",
    "Quick sanity checks before training:\n",
    "- a bar chart of class counts\n",
    "- image size/mode printouts\n",
    "- random image previews\n",
    "- a grid of samples"
   ]
  },
  {
   "cell_type": "code",
   "execution_count": null,
   "id": "4406dd6d-5624-45c0-a5aa-162e77d3d9b5",
   "metadata": {},
   "outputs": [],
   "source": [
    "import os, random\n",
    "from pathlib import Path\n",
    "import matplotlib.pyplot as plt\n",
    "from PIL import Image\n",
    "import seaborn as sns\n",
    "\n",
    "# config\n",
    "DATA_ROOT = Path(\"../data/classification\")\n",
    "CLASSES = [d.name for d in DATA_ROOT.iterdir() if d.is_dir()]\n",
    "print(\"Classes:\", CLASSES)"
   ]
  },
  {
   "cell_type": "code",
   "execution_count": null,
   "id": "9cf9b827",
   "metadata": {},
   "outputs": [],
   "source": [
    "# count images per class\n",
    "counts = {cls: len(list((DATA_ROOT/cls).glob('*'))) for cls in CLASSES}\n",
    "print(counts)\n",
    "\n",
    "plt.figure(figsize=(10,5))\n",
    "sns.barplot(x=list(counts.keys()), y=list(counts.values()))\n",
    "plt.xticks(rotation=45, ha='right')\n",
    "plt.title(\"Images per class\")\n",
    "plt.show()"
   ]
  },
  {
   "cell_type": "code",
   "execution_count": null,
   "id": "9b0d8fc1",
   "metadata": {},
   "outputs": [],
   "source": [
    "# inspect one image from each class\n",
    "for cls in CLASSES:\n",
    "    sample = random.choice(list((DATA_ROOT/cls).glob('*')))\n",
    "    img = Image.open(sample)\n",
    "    print(cls, \"->\", img.size, \"mode:\", img.mode)\n",
    "    display(img)\n",
    "    break  # remove break to show all"
   ]
  },
  {
   "cell_type": "code",
   "execution_count": null,
   "id": "e5fb3e93",
   "metadata": {},
   "outputs": [],
   "source": [
    "# show grid of random samples\n",
    "fig, axes = plt.subplots(2, 5, figsize=(15,6))\n",
    "for ax, cls in zip(axes.flat, CLASSES[:10]):\n",
    "    sample = random.choice(list((DATA_ROOT/cls).glob('*')))\n",
    "    img = Image.open(sample)\n",
    "    ax.imshow(img)\n",
    "    ax.set_title(cls[:12])\n",
    "    ax.axis('off')\n",
    "plt.tight_layout()\n",
    "plt.show()"
   ]
  }
 ],
 "metadata": {
  "kernelspec": {
   "display_name": "Python 3 (ipykernel)",
   "language": "python",
   "name": "python3"
  },
  "language_info": {
   "codemirror_mode": {
    "name": "ipython",
    "version": 3
   },
   "file_extension": ".py",
   "mimetype": "text/x-python",
   "name": "python",
   "nbconvert_exporter": "python",
   "pygments_lexer": "ipython3",
   "version": "3.13.5"
  }
 },
 "nbformat": 4,
 "nbformat_minor": 5
}
